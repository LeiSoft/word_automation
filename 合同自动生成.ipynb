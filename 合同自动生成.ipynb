{
 "cells": [
  {
   "cell_type": "code",
   "execution_count": 1,
   "metadata": {},
   "outputs": [
    {
     "data": {
      "text/plain": [
       "<docx.document.Document at 0x15dcbf8bf48>"
      ]
     },
     "execution_count": 1,
     "metadata": {},
     "output_type": "execute_result"
    }
   ],
   "source": [
    "import docx\n",
    "\n",
    "#读取文档\n",
    "doc = docx.Document('./理财合同模板.docx')\n",
    "doc"
   ]
  },
  {
   "cell_type": "code",
   "execution_count": 2,
   "metadata": {},
   "outputs": [
    {
     "name": "stdout",
     "output_type": "stream",
     "text": [
      "paragraph= 委托理财合同\n",
      "paragraph= 甲方：\n",
      "paragraph= 乙方：\n",
      "paragraph=      甲乙双方友好协商，本着平等互利、友好合作的意愿订立本协议，并郑重声明共同遵守。 \n",
      "paragraph= 第一条、投资金额：双方达成意向投资金额                   万元。\n",
      "paragraph= 第二条、投资期限: 起始日期               ，截止日期           。 \n",
      "paragraph= 第三条、投资利率：甲方根据投资年限所设定的利率，按月度支付给乙方利息，期限1年，利率每月月息0.5% ，不足整月按天计息，每月15日统一返款（按一年360天，一个月30天核算）。  \n",
      "paragraph= 第四条、甲方权利和义务\n",
      "paragraph= 1、甲方有权支配乙方投资的人民币从事各种生产经营活动，乙方无权干涉；\n",
      "paragraph=  2、甲方必须每月15日，按时支付乙方利息； \n",
      "paragraph= 3、投资满一年，甲方返还乙方本金。\n",
      "paragraph= 第五条、乙方权利和义务\n",
      "paragraph= 1、甲方在生产经营过程中，各种原因造成的经济损失，乙方不予承担；\n",
      "paragraph= 2、甲方在生产经营过程中，若触犯国家法律法规，乙方不承担任何法律责任；\n",
      "paragraph= 3、乙方必须按照合同约定，除特殊情况外，不得提前支取所投资金。\n",
      "paragraph=  第六条、违约责任： \n",
      "paragraph= 1、如乙方提前退款，不满三个月的退回全部利息，满三个月不满半年的利息减半。\n",
      "paragraph= 2、如遇乙方到期退款或者提前退款，甲方应在合同到期后5个工作日内返还给乙方的投资资金，按合同日期拖延一天需缴纳给乙方万分之五的违约金。 \n",
      "paragraph= 第七条、本协议争议的解决方式：本协议在履行过程中如发生争议，由双方当事人协商解决；协商不成时任何一方均可向乙方所在地仲裁委员会申请仲裁，也可以直接向甲方所在地桥西区人民法院提起诉讼。 \n",
      "paragraph= 第八条、本协议一式二份，双方各执一份，经甲、乙双方代表签章后立即生效，均具同等法律效力，如有不到之处双方再行协商补充。\n",
      "paragraph= \n",
      "paragraph= 甲方：                                乙方：\n",
      "paragraph= 代表签字：                            代表签字：\n",
      "paragraph= 日期：                                日期：\n",
      "paragraph= 盖章：                                盖章：\n",
      "paragraph= 账号：                                账号：\n",
      "paragraph=    签订地点：\n"
     ]
    }
   ],
   "source": [
    "# 查看每个段落的内容\n",
    "for paragraph in doc.paragraphs:\n",
    "    print('paragraph=', paragraph.text)\n",
    "#paragraph.text"
   ]
  },
  {
   "cell_type": "markdown",
   "metadata": {},
   "source": [
    "## 填写张飞的合同"
   ]
  },
  {
   "cell_type": "code",
   "execution_count": 3,
   "metadata": {},
   "outputs": [
    {
     "name": "stdout",
     "output_type": "stream",
     "text": [
      "paragraph.text= 委托理财合同\n",
      "paragraph.text= 甲方：\n",
      "paragraph.text= 乙方：\n",
      "paragraph.text=      甲乙双方友好协商，本着平等互利、友好合作的意愿订立本协议，并郑重声明共同遵守。 \n",
      "paragraph.text= 第一条、投资金额：双方达成意向投资金额                   万元。\n",
      "paragraph.text= 第二条、投资期限: 起始日期               ，截止日期           。 \n",
      "paragraph.text= 第三条、投资利率：甲方根据投资年限所设定的利率，按月度支付给乙方利息，期限1年，利率每月月息0.5% ，不足整月按天计息，每月15日统一返款（按一年360天，一个月30天核算）。  \n",
      "paragraph.text= 第四条、甲方权利和义务\n",
      "paragraph.text= 1、甲方有权支配乙方投资的人民币从事各种生产经营活动，乙方无权干涉；\n",
      "paragraph.text=  2、甲方必须每月15日，按时支付乙方利息； \n",
      "paragraph.text= 3、投资满一年，甲方返还乙方本金。\n",
      "paragraph.text= 第五条、乙方权利和义务\n",
      "paragraph.text= 1、甲方在生产经营过程中，各种原因造成的经济损失，乙方不予承担；\n",
      "paragraph.text= 2、甲方在生产经营过程中，若触犯国家法律法规，乙方不承担任何法律责任；\n",
      "paragraph.text= 3、乙方必须按照合同约定，除特殊情况外，不得提前支取所投资金。\n",
      "paragraph.text=  第六条、违约责任： \n",
      "paragraph.text= 1、如乙方提前退款，不满三个月的退回全部利息，满三个月不满半年的利息减半。\n",
      "paragraph.text= 2、如遇乙方到期退款或者提前退款，甲方应在合同到期后5个工作日内返还给乙方的投资资金，按合同日期拖延一天需缴纳给乙方万分之五的违约金。 \n",
      "paragraph.text= 第七条、本协议争议的解决方式：本协议在履行过程中如发生争议，由双方当事人协商解决；协商不成时任何一方均可向乙方所在地仲裁委员会申请仲裁，也可以直接向甲方所在地桥西区人民法院提起诉讼。 \n",
      "paragraph.text= 第八条、本协议一式二份，双方各执一份，经甲、乙双方代表签章后立即生效，均具同等法律效力，如有不到之处双方再行协商补充。\n",
      "paragraph.text= \n",
      "paragraph.text= 甲方：                                乙方：\n",
      "paragraph.text= 代表签字：                            代表签字：\n",
      "paragraph.text= 日期：                                日期：\n",
      "paragraph.text= 盖章：                                盖章：\n",
      "paragraph.text= 账号：                                账号：\n",
      "paragraph.text=    签订地点：\n"
     ]
    }
   ],
   "source": [
    "from docx.shared import Pt\n",
    "\n",
    "# 查看每个段落的内容\n",
    "name = '张飞'\n",
    "money = '10'\n",
    "start_date = '2022-09-01'\n",
    "end_date = '2023-09-01'\n",
    "sign_date = '2022-09-01'\n",
    "\n",
    "for paragraph in doc.paragraphs:\n",
    "    text = paragraph.text\n",
    "    check = False\n",
    "    print('paragraph.text=', text)\n",
    "    if text.startswith('乙方：'):\n",
    "        text = text + name\n",
    "        check = True\n",
    "    # 通过 段落的开头进行匹配\n",
    "    if text.startswith('第一条、投资金额：双方达成意向投资金额'):\n",
    "        text = '第一条、投资金额：双方达成意向投资金额   {}  万元。'.format(money)\n",
    "        check = True\n",
    "    if text.startswith('第二条、投资期限: 起始日期'):\n",
    "        text = '第二条、投资期限: 起始日期 {} ，截止日期 {} 。'.format(start_date, end_date)\n",
    "        check = True\n",
    "    # 判断：以 。。。 为开头\n",
    "    if text.startswith('日期：'):\n",
    "        text = '日期：    {}                  日期：'.format(sign_date)\n",
    "        check = True\n",
    "    # 统一设置样式\n",
    "    if check:\n",
    "        paragraph.text = text\n",
    "        #print('paragraph=', paragraph.text)\n",
    "        # 设置样式\n",
    "        for run in paragraph.runs:\n",
    "            run.font.size = Pt(14)\n",
    "            \n",
    "doc.save('合同-张飞.docx')"
   ]
  },
  {
   "cell_type": "markdown",
   "metadata": {},
   "source": [
    "## 批量生成合同"
   ]
  },
  {
   "cell_type": "code",
   "execution_count": 4,
   "metadata": {},
   "outputs": [
    {
     "name": "stdout",
     "output_type": "stream",
     "text": [
      "合同-张飞.docx\n",
      "合同-关羽.docx\n",
      "合同-刘备.docx\n",
      "合同-许褚.docx\n"
     ]
    },
    {
     "data": {
      "text/html": [
       "<div>\n",
       "<style scoped>\n",
       "    .dataframe tbody tr th:only-of-type {\n",
       "        vertical-align: middle;\n",
       "    }\n",
       "\n",
       "    .dataframe tbody tr th {\n",
       "        vertical-align: top;\n",
       "    }\n",
       "\n",
       "    .dataframe thead th {\n",
       "        text-align: right;\n",
       "    }\n",
       "</style>\n",
       "<table border=\"1\" class=\"dataframe\">\n",
       "  <thead>\n",
       "    <tr style=\"text-align: right;\">\n",
       "      <th></th>\n",
       "      <th>客户名称</th>\n",
       "      <th>理财金额</th>\n",
       "      <th>起始日期</th>\n",
       "      <th>截止日期</th>\n",
       "      <th>合同日期</th>\n",
       "    </tr>\n",
       "  </thead>\n",
       "  <tbody>\n",
       "    <tr>\n",
       "      <th>0</th>\n",
       "      <td>张飞</td>\n",
       "      <td>10万</td>\n",
       "      <td>2022-09-01</td>\n",
       "      <td>2023-09-01</td>\n",
       "      <td>2022-09-01</td>\n",
       "    </tr>\n",
       "    <tr>\n",
       "      <th>1</th>\n",
       "      <td>关羽</td>\n",
       "      <td>20万</td>\n",
       "      <td>2022-10-01</td>\n",
       "      <td>2023-10-01</td>\n",
       "      <td>2022-10-01</td>\n",
       "    </tr>\n",
       "    <tr>\n",
       "      <th>2</th>\n",
       "      <td>刘备</td>\n",
       "      <td>30万</td>\n",
       "      <td>2022-11-01</td>\n",
       "      <td>2023-11-01</td>\n",
       "      <td>2022-11-01</td>\n",
       "    </tr>\n",
       "    <tr>\n",
       "      <th>3</th>\n",
       "      <td>许褚</td>\n",
       "      <td>40万</td>\n",
       "      <td>2022-12-01</td>\n",
       "      <td>2023-12-01</td>\n",
       "      <td>2022-12-01</td>\n",
       "    </tr>\n",
       "  </tbody>\n",
       "</table>\n",
       "</div>"
      ],
      "text/plain": [
       "  客户名称 理财金额       起始日期       截止日期       合同日期\n",
       "0   张飞  10万 2022-09-01 2023-09-01 2022-09-01\n",
       "1   关羽  20万 2022-10-01 2023-10-01 2022-10-01\n",
       "2   刘备  30万 2022-11-01 2023-11-01 2022-11-01\n",
       "3   许褚  40万 2022-12-01 2023-12-01 2022-12-01"
      ]
     },
     "execution_count": 4,
     "metadata": {},
     "output_type": "execute_result"
    }
   ],
   "source": [
    "import pandas as pd\n",
    "\n",
    "# 生成指定的合同\n",
    "def generate(name, money, start_date, end_date, sign_date):\n",
    "    #读取文档\n",
    "    doc = docx.Document('./理财合同模板.docx')\n",
    "    for paragraph in doc.paragraphs:\n",
    "        text = paragraph.text\n",
    "        check = False\n",
    "        #print('paragraph.text=', text)\n",
    "        if text.startswith('乙方：'):\n",
    "            text = text + name\n",
    "            check = True\n",
    "        if text.startswith('第一条、投资金额：双方达成意向投资金额'):\n",
    "            text = '第一条、投资金额：双方达成意向投资金额   {}  万元。'.format(money)\n",
    "            check = True\n",
    "        if text.startswith('第二条、投资期限: 起始日期'):\n",
    "            text = '第二条、投资期限: 起始日期 {} ，截止日期 {} 。'.format(start_date, end_date)\n",
    "            check = True\n",
    "        if text.startswith('日期：'):\n",
    "            text = '日期：    {}                  日期：'.format(sign_date)\n",
    "            check = True\n",
    "\n",
    "        # 统一设置样式\n",
    "        if check:\n",
    "            paragraph.text = text\n",
    "            #print('paragraph=', paragraph.text)\n",
    "            # 设置样式\n",
    "            for run in paragraph.runs:\n",
    "                run.font.size = Pt(14)\n",
    "    filename = '合同-{}.docx'.format(name)\n",
    "    doc.save(filename)\n",
    "    print(filename)\n",
    "    \n",
    "# 读取客户清单\n",
    "df = pd.read_excel('./客户清单.xlsx')\n",
    "# 遍历Excel, 按照行进行遍历\n",
    "for index, row in df.iterrows():\n",
    "    # 对于每一行，提取客户的信息\n",
    "    name = row['客户名称']\n",
    "    money = row['理财金额']\n",
    "    money = money[0:-1] # 去掉万字\n",
    "    start_date = row['起始日期']\n",
    "    end_date = row['截止日期']\n",
    "    sign_date = row['合同日期']\n",
    "    #print('sign_date=', sign_date)\n",
    "    # 日期格式 只提取日期\n",
    "    start_date = str(start_date)[0:10]\n",
    "    end_date = str(end_date)[0:10]\n",
    "    sign_date = str(sign_date)[0:10]\n",
    "    #print('sign_date=', sign_date)\n",
    "    # 生成合同\n",
    "    generate(name, money, start_date, end_date, sign_date)\n",
    "df"
   ]
  }
 ],
 "metadata": {
  "kernelspec": {
   "display_name": "Python 3",
   "language": "python",
   "name": "python3"
  },
  "language_info": {
   "codemirror_mode": {
    "name": "ipython",
    "version": 3
   },
   "file_extension": ".py",
   "mimetype": "text/x-python",
   "name": "python",
   "nbconvert_exporter": "python",
   "pygments_lexer": "ipython3",
   "version": "3.7.4"
  },
  "toc": {
   "base_numbering": 1,
   "nav_menu": {},
   "number_sections": false,
   "sideBar": true,
   "skip_h1_title": false,
   "title_cell": "Table of Contents",
   "title_sidebar": "Contents",
   "toc_cell": false,
   "toc_position": {},
   "toc_section_display": true,
   "toc_window_display": false
  }
 },
 "nbformat": 4,
 "nbformat_minor": 4
}
